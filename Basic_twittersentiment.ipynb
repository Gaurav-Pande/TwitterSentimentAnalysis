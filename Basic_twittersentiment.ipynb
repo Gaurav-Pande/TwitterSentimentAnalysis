{
 "cells": [
  {
   "cell_type": "code",
   "execution_count": 3,
   "metadata": {
    "collapsed": false,
    "deletable": true,
    "editable": true
   },
   "outputs": [],
   "source": [
    "#Basic Twitter Sentiment Analysis using textblob\n",
    "import tweepy\n",
    "import textblob"
   ]
  },
  {
   "cell_type": "code",
   "execution_count": 4,
   "metadata": {
    "collapsed": true,
    "deletable": true,
    "editable": true
   },
   "outputs": [],
   "source": [
    "api_key = \"0D5JvZZ6DezvAdxR54aPlI9FI\"\n",
    "api_secret = \"gTpG7zuBYVddpU1hslEvSZbtHC5ucAzP2OSeKd6HqJE9cdXfZS\"\n",
    "\n",
    "access_token = \"834329287813689344-9C64qjnjKJk9DpXSHkKZp85EGxOboFJ\"\n",
    "access_token_secret = \"HofcloqZAyzxrcwyJSJFGKbO9UEPIxMAqU5TL9P8htLpe\""
   ]
  },
  {
   "cell_type": "code",
   "execution_count": 5,
   "metadata": {
    "collapsed": true
   },
   "outputs": [],
   "source": [
    "auth = tweepy.OAuthHandler(api_key,api_secret)\n",
    "auth.set_access_token(access_token,access_token_secret)"
   ]
  },
  {
   "cell_type": "code",
   "execution_count": 9,
   "metadata": {
    "collapsed": false
   },
   "outputs": [
    {
     "name": "stdout",
     "output_type": "stream",
     "text": [
      "RT @saifulismail: @tufailelif Sir, First Hindu Temple in Abu Dhabi. As promised by Sheikh Mohammad to PM @narendramodi .. Now that is calle…\n",
      "Sentiment(polarity=0.25, subjectivity=0.3333333333333333)\n",
      "RT @shahid_siddiqui: Stop showing Muslims the fear of BJP. Let's judge Modi/Yogi on their performance. Don't use Muslims shoulders to fire…\n",
      "Sentiment(polarity=0.0, subjectivity=0.0)\n",
      "RT @TajinderBagga: Since Narendra Modi govt takeover in 2014, 2 crore new LPG connections given to poor https://t.co/TPhIzDeViA via @Financ…\n",
      "Sentiment(polarity=-0.13181818181818183, subjectivity=0.5272727272727272)\n",
      "RT @inderjeetbahl: Modi ji Pagri dukandaro ki roji roti bachao Delhi ko bhi Gujarat jaisa khushal bnao Gujarat rent act lao https://t.co/Kv…\n",
      "Sentiment(polarity=0.0, subjectivity=0.0)\n",
      "@BDUTTterms Modi welfare capitalist in beginning and declares later India's centre of gravity has moved rightwards. Contradictions galore1/2\n",
      "Sentiment(polarity=0.0, subjectivity=0.0)\n",
      "Why #NewIndia dreams since 1947 haven't removed #poverty, #unemployment, etc? https://t.co/m4VybMMwbq \n",
      "@BJPLive @INCIndia @SitaramYechury\n",
      "Sentiment(polarity=0.0, subjectivity=0.0)\n",
      "Chief Minister of Uttar Pradesh #YogiAdityanath will meet PM Narendra Modi today\n",
      "#UttarPradesh\n",
      "Sentiment(polarity=0.0, subjectivity=0.0)\n",
      "RT @narendramodi_in: Modi is building stronger India, one policy at a time... Do read this interesting article   https://t.co/4ngBnUJQl6\r",
      "\r",
      "v…\n",
      "Sentiment(polarity=0.5, subjectivity=0.5)\n",
      "RT @Rahul_Pandey_1: The truth.. https://t.co/OWygb1tpmq\n",
      "Sentiment(polarity=0.0, subjectivity=0.0)\n",
      "RT @DrHarish_Joshi: Development is the solution to all the troubles: PM Modi https://t.co/zy1BQ3oxBE\n",
      "Sentiment(polarity=0.0, subjectivity=0.0)\n",
      "RT @News18India: 16वीं शताब्दी के मशहूर फ्रांसीसी भविष्यवक्ता नास्त्रेदमस की कई भविष्यवाणियां सच साबित हो चुकी हैं. #PMModi https://t.co/DA…\n",
      "Sentiment(polarity=0.0, subjectivity=0.0)\n",
      "RT @vschanna: @_sabanaqvi realises to her horror that Muslim votes have been rendered useless. ...Her demonisation of Modi/BJP converted M-…\n",
      "Sentiment(polarity=-0.5, subjectivity=0.2)\n",
      "RT moneycontrolcom \"Volvo CEO Martin Lundstedt meets PM Modi https://t.co/3TB9AUPDtG\"\n",
      "Sentiment(polarity=0.0, subjectivity=0.0)\n",
      "RT @narendramodi_in: Want to make India global diamond trading hub, says PM @narendramodi  https://t.co/IOGzyvEVUk\r",
      "\r",
      "via NMApp\n",
      "Sentiment(polarity=0.0, subjectivity=0.0)\n",
      "@AzmiShabana Let a single statement comes from Modi about 100 cr Hindus instead of 125 cr Indians. These sickulars will lynch him @suhelseth\n",
      "Sentiment(polarity=-0.07142857142857142, subjectivity=0.21428571428571427)\n"
     ]
    }
   ],
   "source": [
    "api = tweepy.API(auth)\n",
    "public_tweets = api.search('Modi')\n",
    "for tweet in public_tweets:\n",
    "    print (tweet.text)\n",
    "    analysis = textblob.TextBlob(tweet.text)\n",
    "    print(analysis.sentiment)"
   ]
  },
  {
   "cell_type": "code",
   "execution_count": null,
   "metadata": {
    "collapsed": true
   },
   "outputs": [],
   "source": []
  }
 ],
 "metadata": {
  "kernelspec": {
   "display_name": "Python 3",
   "language": "python",
   "name": "python3"
  },
  "language_info": {
   "codemirror_mode": {
    "name": "ipython",
    "version": 3
   },
   "file_extension": ".py",
   "mimetype": "text/x-python",
   "name": "python",
   "nbconvert_exporter": "python",
   "pygments_lexer": "ipython3",
   "version": "3.5.2"
  }
 },
 "nbformat": 4,
 "nbformat_minor": 2
}
